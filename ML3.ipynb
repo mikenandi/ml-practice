{
 "cells": [
  {
   "cell_type": "code",
   "execution_count": 15,
   "id": "02b26191-3ef3-4bf4-9d52-960fc3038ec2",
   "metadata": {},
   "outputs": [],
   "source": [
    "import pandas as pd\n",
    "import numpy as np\n",
    "btc_main = pd.read_csv('/home/aidleroinc/Desktop/data-science/btc-market-price.csv')\n",
    "st_main = pd.read_csv('/home/aidleroinc/Downloads/MLData.csv')"
   ]
  },
  {
   "cell_type": "code",
   "execution_count": 22,
   "id": "75f5bd50-b4d7-4e20-8dc7-0edf487f04a5",
   "metadata": {},
   "outputs": [
    {
     "data": {
      "text/plain": [
       "RangeIndex(start=0, stop=50, step=1)"
      ]
     },
     "execution_count": 22,
     "metadata": {},
     "output_type": "execute_result"
    }
   ],
   "source": []
  },
  {
   "cell_type": "code",
   "execution_count": null,
   "id": "0325264a-fb74-435d-9539-b401b5eccec8",
   "metadata": {},
   "outputs": [],
   "source": []
  }
 ],
 "metadata": {
  "kernelspec": {
   "display_name": "Python 3",
   "language": "python",
   "name": "python3"
  },
  "language_info": {
   "codemirror_mode": {
    "name": "ipython",
    "version": 3
   },
   "file_extension": ".py",
   "mimetype": "text/x-python",
   "name": "python",
   "nbconvert_exporter": "python",
   "pygments_lexer": "ipython3",
   "version": "3.8.5"
  }
 },
 "nbformat": 4,
 "nbformat_minor": 5
}
