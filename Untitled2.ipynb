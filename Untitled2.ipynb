{
 "cells": [
  {
   "cell_type": "code",
   "execution_count": 1,
   "id": "e6ed2a34-c501-45f1-941a-90dc476887c9",
   "metadata": {},
   "outputs": [
    {
     "name": "stdout",
     "output_type": "stream",
     "text": [
      "hello world\n"
     ]
    }
   ],
   "source": [
    "print('hello world')"
   ]
  },
  {
   "cell_type": "code",
   "execution_count": 2,
   "id": "f4f0159f-a75b-4f8d-b0d0-ff80f9cc0471",
   "metadata": {},
   "outputs": [
    {
     "name": "stdout",
     "output_type": "stream",
     "text": [
      "john\n"
     ]
    }
   ],
   "source": [
    "x = 5 \n",
    "y = 'john'\n",
    "print(y)"
   ]
  },
  {
   "cell_type": "code",
   "execution_count": 4,
   "id": "34f35458-8f1f-48b1-8882-3e0d7086c5f1",
   "metadata": {},
   "outputs": [
    {
     "name": "stdout",
     "output_type": "stream",
     "text": [
      "a is greater than b\n"
     ]
    }
   ],
   "source": [
    "a = 333\n",
    "b = 100 \n",
    "\n",
    "if a > b:\n",
    "    print('a is greater than b')"
   ]
  },
  {
   "cell_type": "code",
   "execution_count": 5,
   "id": "c1fab98b-dab6-4e70-ae25-50f754430be6",
   "metadata": {},
   "outputs": [
    {
     "name": "stdout",
     "output_type": "stream",
     "text": [
      "apple\n",
      "banana\n",
      "orange\n"
     ]
    }
   ],
   "source": [
    "fruits = ['apple','banana','orange']\n",
    "\n",
    "for x in fruits:\n",
    "    print(x)"
   ]
  },
  {
   "cell_type": "code",
   "execution_count": 7,
   "id": "37cd58d0-3773-4f3a-aa8b-9ef0be3fccf5",
   "metadata": {},
   "outputs": [
    {
     "name": "stdout",
     "output_type": "stream",
     "text": [
      "b\n",
      "a\n",
      "n\n",
      "a\n",
      "n\n",
      "a\n"
     ]
    }
   ],
   "source": [
    "for x in 'banana':\n",
    "    print(x)"
   ]
  },
  {
   "cell_type": "code",
   "execution_count": 8,
   "id": "b2830fe5-31b8-42b6-9ce4-4bb3b72638fb",
   "metadata": {},
   "outputs": [
    {
     "name": "stdout",
     "output_type": "stream",
     "text": [
      "0\n",
      "1\n",
      "2\n",
      "3\n",
      "4\n",
      "5\n",
      "6\n",
      "7\n",
      "8\n"
     ]
    }
   ],
   "source": [
    "for x in range(9):\n",
    "    print(x)"
   ]
  },
  {
   "cell_type": "code",
   "execution_count": 9,
   "id": "d0cdd063-c82e-43c3-91cd-a27e456af726",
   "metadata": {},
   "outputs": [],
   "source": [
    "def my_function():\n",
    "    print('hello world')"
   ]
  },
  {
   "cell_type": "code",
   "execution_count": 10,
   "id": "88dbf3cd-9b55-45f3-9d10-57b4860de8db",
   "metadata": {},
   "outputs": [
    {
     "name": "stdout",
     "output_type": "stream",
     "text": [
      "hello world\n"
     ]
    }
   ],
   "source": [
    "my_function()"
   ]
  },
  {
   "cell_type": "code",
   "execution_count": 12,
   "id": "ffc50935-8896-4a47-bc84-29ec740ea3d0",
   "metadata": {},
   "outputs": [
    {
     "name": "stdout",
     "output_type": "stream",
     "text": [
      "mike Refness\n"
     ]
    }
   ],
   "source": [
    "def fullname(fname):\n",
    "    print(fname + ' Refness')\n",
    "    \n",
    "fullname('mike')"
   ]
  },
  {
   "cell_type": "code",
   "execution_count": 13,
   "id": "1695fa82-c1ee-4c40-b6a2-18c29a92a947",
   "metadata": {},
   "outputs": [
    {
     "data": {
      "text/plain": [
       "'Ford'"
      ]
     },
     "execution_count": 13,
     "metadata": {},
     "output_type": "execute_result"
    }
   ],
   "source": [
    "cars = ['Ford','Volvo','BMW']\n",
    "cars[0]"
   ]
  },
  {
   "cell_type": "code",
   "execution_count": 14,
   "id": "7bb4953b-feec-4ba8-9e91-603b63068fad",
   "metadata": {},
   "outputs": [],
   "source": [
    "n = len(cars)"
   ]
  },
  {
   "cell_type": "code",
   "execution_count": 15,
   "id": "19d63ffc-ae87-4a35-a95b-54b1f5966482",
   "metadata": {},
   "outputs": [
    {
     "data": {
      "text/plain": [
       "3"
      ]
     },
     "execution_count": 15,
     "metadata": {},
     "output_type": "execute_result"
    }
   ],
   "source": [
    "n"
   ]
  },
  {
   "cell_type": "code",
   "execution_count": 16,
   "id": "ae6b3670-46b8-4a06-a0db-070ce9907801",
   "metadata": {},
   "outputs": [
    {
     "name": "stdout",
     "output_type": "stream",
     "text": [
      "Ford\n",
      "Volvo\n",
      "BMW\n"
     ]
    }
   ],
   "source": [
    "for x in cars:\n",
    "    print(x)"
   ]
  },
  {
   "cell_type": "code",
   "execution_count": 17,
   "id": "81a224dc-efb4-4a30-b6ed-8b42062dc3fa",
   "metadata": {},
   "outputs": [
    {
     "data": {
      "text/plain": [
       "'Volvo'"
      ]
     },
     "execution_count": 17,
     "metadata": {},
     "output_type": "execute_result"
    }
   ],
   "source": [
    "cars.pop(1)"
   ]
  },
  {
   "cell_type": "code",
   "execution_count": 18,
   "id": "bd560d4d-e115-4630-9a0c-f90e05cb70bd",
   "metadata": {},
   "outputs": [
    {
     "data": {
      "text/plain": [
       "['Ford', 'BMW']"
      ]
     },
     "execution_count": 18,
     "metadata": {},
     "output_type": "execute_result"
    }
   ],
   "source": [
    "cars"
   ]
  },
  {
   "cell_type": "code",
   "execution_count": 19,
   "id": "5d11f212-deaf-4da4-9e7f-a5db7e53ea65",
   "metadata": {},
   "outputs": [],
   "source": [
    "class MyClass:\n",
    "    x = 5"
   ]
  },
  {
   "cell_type": "code",
   "execution_count": 20,
   "id": "4f382e21-2b0e-461f-9585-baa353319c31",
   "metadata": {},
   "outputs": [],
   "source": [
    "class Person:\n",
    "    def __init__(self, name, age):\n",
    "        self.name = name\n",
    "        self.age = age \n",
    "        \n",
    "    def myFunct(self):\n",
    "        print('hello my name is ' + self.name)"
   ]
  },
  {
   "cell_type": "code",
   "execution_count": 21,
   "id": "e93fc676-4d68-471b-a624-ff3acdc5e74e",
   "metadata": {},
   "outputs": [
    {
     "name": "stdout",
     "output_type": "stream",
     "text": [
      "hello my name is John\n"
     ]
    }
   ],
   "source": [
    "p1 = Person('John',36)\n",
    "p1.myFunct()"
   ]
  },
  {
   "cell_type": "code",
   "execution_count": 25,
   "id": "4f45dd47-37dd-4c3e-8ac2-c7166731f1a4",
   "metadata": {},
   "outputs": [
    {
     "name": "stdout",
     "output_type": "stream",
     "text": [
      "John Doe\n"
     ]
    }
   ],
   "source": [
    "class Person:\n",
    "    def __init__(self, fname, lname):\n",
    "        self.firstname = fname\n",
    "        self.lastname = lname\n",
    "        \n",
    "    def printName(self):\n",
    "        print(self.firstname, self.lastname)\n",
    "\n",
    "        \n",
    "x = Person('John','Doe')\n",
    "x.printName()"
   ]
  },
  {
   "cell_type": "code",
   "execution_count": 37,
   "id": "62dc56f6-1f46-4380-a35b-23aafdefb16a",
   "metadata": {},
   "outputs": [
    {
     "data": {
      "text/html": [
       "<div>\n",
       "<style scoped>\n",
       "    .dataframe tbody tr th:only-of-type {\n",
       "        vertical-align: middle;\n",
       "    }\n",
       "\n",
       "    .dataframe tbody tr th {\n",
       "        vertical-align: top;\n",
       "    }\n",
       "\n",
       "    .dataframe thead th {\n",
       "        text-align: right;\n",
       "    }\n",
       "</style>\n",
       "<table border=\"1\" class=\"dataframe\">\n",
       "  <thead>\n",
       "    <tr style=\"text-align: right;\">\n",
       "      <th></th>\n",
       "      <th>How old are you?</th>\n",
       "      <th>Industry</th>\n",
       "      <th>Job title</th>\n",
       "      <th>Additional context on job title</th>\n",
       "      <th>Annual salary</th>\n",
       "      <th>Other monetary comp</th>\n",
       "      <th>Currency</th>\n",
       "      <th>Currency - other</th>\n",
       "      <th>Additional context on income</th>\n",
       "      <th>Country</th>\n",
       "      <th>State</th>\n",
       "      <th>City</th>\n",
       "      <th>Overall years of professional experience</th>\n",
       "      <th>Years of experience in field</th>\n",
       "      <th>Highest level of education completed</th>\n",
       "      <th>Gender</th>\n",
       "      <th>Race</th>\n",
       "    </tr>\n",
       "  </thead>\n",
       "  <tbody>\n",
       "    <tr>\n",
       "      <th>0</th>\n",
       "      <td>25-34</td>\n",
       "      <td>Education (Higher Education)</td>\n",
       "      <td>Research and Instruction Librarian</td>\n",
       "      <td>NaN</td>\n",
       "      <td>55,000</td>\n",
       "      <td>0.0</td>\n",
       "      <td>USD</td>\n",
       "      <td>NaN</td>\n",
       "      <td>NaN</td>\n",
       "      <td>United States</td>\n",
       "      <td>Massachusetts</td>\n",
       "      <td>Boston</td>\n",
       "      <td>5-7 years</td>\n",
       "      <td>5-7 years</td>\n",
       "      <td>Master's degree</td>\n",
       "      <td>Woman</td>\n",
       "      <td>White</td>\n",
       "    </tr>\n",
       "    <tr>\n",
       "      <th>1</th>\n",
       "      <td>25-34</td>\n",
       "      <td>Computing or Tech</td>\n",
       "      <td>Change &amp; Internal Communications Manager</td>\n",
       "      <td>NaN</td>\n",
       "      <td>54,600</td>\n",
       "      <td>4000.0</td>\n",
       "      <td>GBP</td>\n",
       "      <td>NaN</td>\n",
       "      <td>NaN</td>\n",
       "      <td>United Kingdom</td>\n",
       "      <td>NaN</td>\n",
       "      <td>Cambridge</td>\n",
       "      <td>8 - 10 years</td>\n",
       "      <td>5-7 years</td>\n",
       "      <td>College degree</td>\n",
       "      <td>Non-binary</td>\n",
       "      <td>White</td>\n",
       "    </tr>\n",
       "    <tr>\n",
       "      <th>2</th>\n",
       "      <td>25-34</td>\n",
       "      <td>Accounting, Banking &amp; Finance</td>\n",
       "      <td>Marketing Specialist</td>\n",
       "      <td>NaN</td>\n",
       "      <td>34,000</td>\n",
       "      <td>NaN</td>\n",
       "      <td>USD</td>\n",
       "      <td>NaN</td>\n",
       "      <td>NaN</td>\n",
       "      <td>US</td>\n",
       "      <td>Tennessee</td>\n",
       "      <td>Chattanooga</td>\n",
       "      <td>2 - 4 years</td>\n",
       "      <td>2 - 4 years</td>\n",
       "      <td>College degree</td>\n",
       "      <td>Woman</td>\n",
       "      <td>White</td>\n",
       "    </tr>\n",
       "    <tr>\n",
       "      <th>3</th>\n",
       "      <td>25-34</td>\n",
       "      <td>Nonprofits</td>\n",
       "      <td>Program Manager</td>\n",
       "      <td>NaN</td>\n",
       "      <td>62,000</td>\n",
       "      <td>3000.0</td>\n",
       "      <td>USD</td>\n",
       "      <td>NaN</td>\n",
       "      <td>NaN</td>\n",
       "      <td>USA</td>\n",
       "      <td>Wisconsin</td>\n",
       "      <td>Milwaukee</td>\n",
       "      <td>8 - 10 years</td>\n",
       "      <td>5-7 years</td>\n",
       "      <td>College degree</td>\n",
       "      <td>Woman</td>\n",
       "      <td>White</td>\n",
       "    </tr>\n",
       "    <tr>\n",
       "      <th>4</th>\n",
       "      <td>25-34</td>\n",
       "      <td>Accounting, Banking &amp; Finance</td>\n",
       "      <td>Accounting Manager</td>\n",
       "      <td>NaN</td>\n",
       "      <td>60,000</td>\n",
       "      <td>7000.0</td>\n",
       "      <td>USD</td>\n",
       "      <td>NaN</td>\n",
       "      <td>NaN</td>\n",
       "      <td>US</td>\n",
       "      <td>South Carolina</td>\n",
       "      <td>Greenville</td>\n",
       "      <td>8 - 10 years</td>\n",
       "      <td>5-7 years</td>\n",
       "      <td>College degree</td>\n",
       "      <td>Woman</td>\n",
       "      <td>White</td>\n",
       "    </tr>\n",
       "    <tr>\n",
       "      <th>...</th>\n",
       "      <td>...</td>\n",
       "      <td>...</td>\n",
       "      <td>...</td>\n",
       "      <td>...</td>\n",
       "      <td>...</td>\n",
       "      <td>...</td>\n",
       "      <td>...</td>\n",
       "      <td>...</td>\n",
       "      <td>...</td>\n",
       "      <td>...</td>\n",
       "      <td>...</td>\n",
       "      <td>...</td>\n",
       "      <td>...</td>\n",
       "      <td>...</td>\n",
       "      <td>...</td>\n",
       "      <td>...</td>\n",
       "      <td>...</td>\n",
       "    </tr>\n",
       "    <tr>\n",
       "      <th>26712</th>\n",
       "      <td>35-44</td>\n",
       "      <td>Computing or Tech</td>\n",
       "      <td>Program Manager</td>\n",
       "      <td>NaN</td>\n",
       "      <td>170000</td>\n",
       "      <td>0.0</td>\n",
       "      <td>USD</td>\n",
       "      <td>NaN</td>\n",
       "      <td>NaN</td>\n",
       "      <td>United States</td>\n",
       "      <td>Virginia</td>\n",
       "      <td>Chantilly</td>\n",
       "      <td>11 - 20 years</td>\n",
       "      <td>11 - 20 years</td>\n",
       "      <td>Master's degree</td>\n",
       "      <td>Woman</td>\n",
       "      <td>White</td>\n",
       "    </tr>\n",
       "    <tr>\n",
       "      <th>26713</th>\n",
       "      <td>35-44</td>\n",
       "      <td>Media &amp; Digital</td>\n",
       "      <td>Media Researcher</td>\n",
       "      <td>Researching Info for television shows</td>\n",
       "      <td>64100</td>\n",
       "      <td>2000.0</td>\n",
       "      <td>USD</td>\n",
       "      <td>NaN</td>\n",
       "      <td>NaN</td>\n",
       "      <td>United States</td>\n",
       "      <td>New York</td>\n",
       "      <td>New York</td>\n",
       "      <td>2 - 4 years</td>\n",
       "      <td>2 - 4 years</td>\n",
       "      <td>Professional degree (MD, JD, etc.)</td>\n",
       "      <td>Woman</td>\n",
       "      <td>Black or African American</td>\n",
       "    </tr>\n",
       "    <tr>\n",
       "      <th>26714</th>\n",
       "      <td>25-34</td>\n",
       "      <td>Business or Consulting</td>\n",
       "      <td>Consultant</td>\n",
       "      <td>Technology Consultancy</td>\n",
       "      <td>120000</td>\n",
       "      <td>25000.0</td>\n",
       "      <td>GBP</td>\n",
       "      <td>NaN</td>\n",
       "      <td>NaN</td>\n",
       "      <td>UK</td>\n",
       "      <td>NaN</td>\n",
       "      <td>London</td>\n",
       "      <td>11 - 20 years</td>\n",
       "      <td>5-7 years</td>\n",
       "      <td>PhD</td>\n",
       "      <td>Man</td>\n",
       "      <td>White</td>\n",
       "    </tr>\n",
       "    <tr>\n",
       "      <th>26715</th>\n",
       "      <td>25-34</td>\n",
       "      <td>Education (Higher Education)</td>\n",
       "      <td>Research Center Manager</td>\n",
       "      <td>NaN</td>\n",
       "      <td>67700</td>\n",
       "      <td>NaN</td>\n",
       "      <td>USD</td>\n",
       "      <td>NaN</td>\n",
       "      <td>NaN</td>\n",
       "      <td>USA</td>\n",
       "      <td>Missouri</td>\n",
       "      <td>St. Louis</td>\n",
       "      <td>8 - 10 years</td>\n",
       "      <td>5-7 years</td>\n",
       "      <td>Master's degree</td>\n",
       "      <td>Woman</td>\n",
       "      <td>White</td>\n",
       "    </tr>\n",
       "    <tr>\n",
       "      <th>26716</th>\n",
       "      <td>25-34</td>\n",
       "      <td>Education (Higher Education)</td>\n",
       "      <td>Assistant to the Dean</td>\n",
       "      <td>My job title doesn’t reflect my work. I am a p...</td>\n",
       "      <td>58000</td>\n",
       "      <td>3000.0</td>\n",
       "      <td>USD</td>\n",
       "      <td>NaN</td>\n",
       "      <td>NaN</td>\n",
       "      <td>United States</td>\n",
       "      <td>Massachusetts</td>\n",
       "      <td>Boston</td>\n",
       "      <td>5-7 years</td>\n",
       "      <td>2 - 4 years</td>\n",
       "      <td>College degree</td>\n",
       "      <td>Woman</td>\n",
       "      <td>White</td>\n",
       "    </tr>\n",
       "  </tbody>\n",
       "</table>\n",
       "<p>26717 rows × 17 columns</p>\n",
       "</div>"
      ],
      "text/plain": [
       "      How old are you?                       Industry  \\\n",
       "0                25-34   Education (Higher Education)   \n",
       "1                25-34              Computing or Tech   \n",
       "2                25-34  Accounting, Banking & Finance   \n",
       "3                25-34                     Nonprofits   \n",
       "4                25-34  Accounting, Banking & Finance   \n",
       "...                ...                            ...   \n",
       "26712            35-44              Computing or Tech   \n",
       "26713            35-44                Media & Digital   \n",
       "26714            25-34         Business or Consulting   \n",
       "26715            25-34   Education (Higher Education)   \n",
       "26716            25-34   Education (Higher Education)   \n",
       "\n",
       "                                      Job title  \\\n",
       "0            Research and Instruction Librarian   \n",
       "1      Change & Internal Communications Manager   \n",
       "2                          Marketing Specialist   \n",
       "3                               Program Manager   \n",
       "4                            Accounting Manager   \n",
       "...                                         ...   \n",
       "26712                           Program Manager   \n",
       "26713                          Media Researcher   \n",
       "26714                                Consultant   \n",
       "26715                   Research Center Manager   \n",
       "26716                     Assistant to the Dean   \n",
       "\n",
       "                         Additional context on job title Annual salary  \\\n",
       "0                                                    NaN        55,000   \n",
       "1                                                    NaN        54,600   \n",
       "2                                                    NaN        34,000   \n",
       "3                                                    NaN        62,000   \n",
       "4                                                    NaN        60,000   \n",
       "...                                                  ...           ...   \n",
       "26712                                                NaN        170000   \n",
       "26713              Researching Info for television shows         64100   \n",
       "26714                            Technology Consultancy         120000   \n",
       "26715                                                NaN         67700   \n",
       "26716  My job title doesn’t reflect my work. I am a p...         58000   \n",
       "\n",
       "       Other monetary comp Currency Currency - other  \\\n",
       "0                      0.0      USD              NaN   \n",
       "1                   4000.0      GBP              NaN   \n",
       "2                      NaN      USD              NaN   \n",
       "3                   3000.0      USD              NaN   \n",
       "4                   7000.0      USD              NaN   \n",
       "...                    ...      ...              ...   \n",
       "26712                  0.0      USD              NaN   \n",
       "26713               2000.0      USD              NaN   \n",
       "26714              25000.0      GBP              NaN   \n",
       "26715                  NaN      USD              NaN   \n",
       "26716               3000.0      USD              NaN   \n",
       "\n",
       "      Additional context on income         Country           State  \\\n",
       "0                              NaN   United States   Massachusetts   \n",
       "1                              NaN  United Kingdom             NaN   \n",
       "2                              NaN              US       Tennessee   \n",
       "3                              NaN             USA       Wisconsin   \n",
       "4                              NaN              US  South Carolina   \n",
       "...                            ...             ...             ...   \n",
       "26712                          NaN   United States        Virginia   \n",
       "26713                          NaN   United States        New York   \n",
       "26714                          NaN              UK             NaN   \n",
       "26715                          NaN             USA        Missouri   \n",
       "26716                          NaN   United States   Massachusetts   \n",
       "\n",
       "              City Overall years of professional experience  \\\n",
       "0           Boston                                5-7 years   \n",
       "1        Cambridge                             8 - 10 years   \n",
       "2      Chattanooga                              2 - 4 years   \n",
       "3        Milwaukee                             8 - 10 years   \n",
       "4       Greenville                             8 - 10 years   \n",
       "...            ...                                      ...   \n",
       "26712    Chantilly                            11 - 20 years   \n",
       "26713     New York                              2 - 4 years   \n",
       "26714      London                             11 - 20 years   \n",
       "26715    St. Louis                             8 - 10 years   \n",
       "26716       Boston                                5-7 years   \n",
       "\n",
       "      Years of experience in field Highest level of education completed  \\\n",
       "0                        5-7 years                      Master's degree   \n",
       "1                        5-7 years                       College degree   \n",
       "2                      2 - 4 years                       College degree   \n",
       "3                        5-7 years                       College degree   \n",
       "4                        5-7 years                       College degree   \n",
       "...                            ...                                  ...   \n",
       "26712                11 - 20 years                      Master's degree   \n",
       "26713                  2 - 4 years   Professional degree (MD, JD, etc.)   \n",
       "26714                    5-7 years                                  PhD   \n",
       "26715                    5-7 years                      Master's degree   \n",
       "26716                  2 - 4 years                       College degree   \n",
       "\n",
       "           Gender                       Race  \n",
       "0           Woman                      White  \n",
       "1      Non-binary                      White  \n",
       "2           Woman                      White  \n",
       "3           Woman                      White  \n",
       "4           Woman                      White  \n",
       "...           ...                        ...  \n",
       "26712       Woman                      White  \n",
       "26713       Woman  Black or African American  \n",
       "26714         Man                      White  \n",
       "26715       Woman                      White  \n",
       "26716       Woman                      White  \n",
       "\n",
       "[26717 rows x 17 columns]"
      ]
     },
     "execution_count": 37,
     "metadata": {},
     "output_type": "execute_result"
    }
   ],
   "source": [
    "import pandas as pd\n",
    "df = pd.read_csv('/home/aidleroinc/Downloads/salary_list.csv')\n",
    "del df['Timestamp']\n",
    "df "
   ]
  },
  {
   "cell_type": "code",
   "execution_count": null,
   "id": "89e772d8-8c2e-4d8e-8360-91f728c87ae9",
   "metadata": {},
   "outputs": [],
   "source": []
  }
 ],
 "metadata": {
  "kernelspec": {
   "display_name": "Python 3",
   "language": "python",
   "name": "python3"
  },
  "language_info": {
   "codemirror_mode": {
    "name": "ipython",
    "version": 3
   },
   "file_extension": ".py",
   "mimetype": "text/x-python",
   "name": "python",
   "nbconvert_exporter": "python",
   "pygments_lexer": "ipython3",
   "version": "3.8.5"
  }
 },
 "nbformat": 4,
 "nbformat_minor": 5
}
