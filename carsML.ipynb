{
 "cells": [
  {
   "cell_type": "code",
   "execution_count": 14,
   "id": "864fa155-b63d-454b-8a3d-07101ce19ee4",
   "metadata": {},
   "outputs": [],
   "source": [
    "# from sklearn import datasets\n",
    "# from sklearn.model_selection import train_test_split\n",
    "# import numpy as np\n",
    "# iris = datasets.load_iris()"
   ]
  },
  {
   "cell_type": "code",
   "execution_count": 13,
   "id": "4710b437-d165-4e11-825f-b1fca8d82d8c",
   "metadata": {},
   "outputs": [],
   "source": [
    "# X = iris.data\n",
    "# y = iris.target"
   ]
  },
  {
   "cell_type": "code",
   "execution_count": 12,
   "id": "b788b529-c0d7-4961-9bfd-bc761d78e7a3",
   "metadata": {},
   "outputs": [],
   "source": [
    "# X_train, X_test, y_train, y_test = train_test_split(X, y , test_size = 0.33)"
   ]
  },
  {
   "cell_type": "code",
   "execution_count": 3,
   "id": "0573be47-c2b1-432d-b425-28ddf097a4d6",
   "metadata": {},
   "outputs": [],
   "source": [
    "import pandas as pd \n",
    "import numpy as np \n",
    "from sklearn import neighbors, metrics\n",
    "from sklearn.model_selection import train_test_split\n",
    "# from sklearn.preprocessing import labelEncoder"
   ]
  },
  {
   "cell_type": "code",
   "execution_count": 4,
   "id": "6dd80bf7-5682-4f64-ad82-8410f15de42c",
   "metadata": {},
   "outputs": [],
   "source": [
    "df = pd.read_csv('car.data')"
   ]
  },
  {
   "cell_type": "code",
   "execution_count": 5,
   "id": "d40b98ac-6d84-434d-8d86-9600d21d17e3",
   "metadata": {},
   "outputs": [],
   "source": [
    "# df.head()"
   ]
  },
  {
   "cell_type": "code",
   "execution_count": 6,
   "id": "839b63d8-c4a1-49ea-8ef3-826751e6d6f6",
   "metadata": {},
   "outputs": [],
   "source": [
    "# df.info()"
   ]
  },
  {
   "cell_type": "code",
   "execution_count": 7,
   "id": "b8a890ff-d14c-4398-8c48-daba613925b7",
   "metadata": {},
   "outputs": [],
   "source": [
    "# df.describe()"
   ]
  },
  {
   "cell_type": "code",
   "execution_count": 8,
   "id": "93932169-1d5b-49a1-90e2-a1e53e14a31e",
   "metadata": {},
   "outputs": [],
   "source": [
    "# df.isna()"
   ]
  },
  {
   "cell_type": "code",
   "execution_count": 9,
   "id": "421cbd0b-817a-4630-915f-3be02c129cc1",
   "metadata": {},
   "outputs": [],
   "source": [
    "# df.head()"
   ]
  },
  {
   "cell_type": "code",
   "execution_count": 10,
   "id": "7c3e1463-09ae-48d5-8824-dbacef18c8ac",
   "metadata": {},
   "outputs": [],
   "source": [
    "X = df[['buying','maint','safety']]"
   ]
  },
  {
   "cell_type": "code",
   "execution_count": 11,
   "id": "3d43cb0f-3dc8-406c-a202-fc83ae2d7597",
   "metadata": {},
   "outputs": [],
   "source": [
    "y = df[['class']]"
   ]
  },
  {
   "cell_type": "code",
   "execution_count": 12,
   "id": "1e5676e1-3f38-41ec-8c48-0f1c9dbfb979",
   "metadata": {},
   "outputs": [],
   "source": [
    "# X\n"
   ]
  },
  {
   "cell_type": "code",
   "execution_count": 14,
   "id": "8569df25-7fc6-465e-85b7-9f1ef27958c0",
   "metadata": {},
   "outputs": [],
   "source": [
    "# y"
   ]
  },
  {
   "cell_type": "code",
   "execution_count": null,
   "id": "25b15b82-5652-4735-a277-e79053ac3dc2",
   "metadata": {},
   "outputs": [],
   "source": []
  }
 ],
 "metadata": {
  "kernelspec": {
   "display_name": "Python 3",
   "language": "python",
   "name": "python3"
  },
  "language_info": {
   "codemirror_mode": {
    "name": "ipython",
    "version": 3
   },
   "file_extension": ".py",
   "mimetype": "text/x-python",
   "name": "python",
   "nbconvert_exporter": "python",
   "pygments_lexer": "ipython3",
   "version": "3.8.5"
  }
 },
 "nbformat": 4,
 "nbformat_minor": 5
}
