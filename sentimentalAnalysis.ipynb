{
 "cells": [
  {
   "cell_type": "markdown",
   "id": "c3aac631-ef6a-4f5c-b143-ce0407086d02",
   "metadata": {},
   "source": [
    "# Creating class that will be used in the data analysis"
   ]
  },
  {
   "cell_type": "code",
   "execution_count": 125,
   "id": "f8af6d17-bc5f-4055-99d1-003ae9ffdbe9",
   "metadata": {},
   "outputs": [],
   "source": [
    "class Sentiment:\n",
    "    NEGATIVE = 'NEGATIVE'\n",
    "    NEUTRAL = 'NEUTRAL'\n",
    "    POSITIVE = 'POSITIVE'\n",
    "\n",
    "class Review:\n",
    "    def __init__(self, text, score):\n",
    "        self.text = text\n",
    "        self.score = score\n",
    "        self.sentiment = self.get_sentiment()\n",
    "        \n",
    "    def get_sentiment(self):\n",
    "        if self.score <= 2:\n",
    "            return Sentiment.NEGATIVE\n",
    "        elif self.score == 3:\n",
    "            return Sentiment.NEUTRAL\n",
    "        else:\n",
    "            return Sentiment.POSITIVE\n",
    "        \n",
    "        \n",
    "            "
   ]
  },
  {
   "cell_type": "markdown",
   "id": "17620ed6-2c38-4438-96fe-7979d9178918",
   "metadata": {},
   "source": [
    "# Reading the json data"
   ]
  },
  {
   "cell_type": "code",
   "execution_count": 176,
   "id": "9d5093c6-230c-49b4-869f-712eba61484e",
   "metadata": {},
   "outputs": [],
   "source": [
    "import json\n",
    "\n",
    "file_name = '/home/aidleroinc/Downloads/Books_small.json'\n",
    "file_name1 = '/home/aidleroinc/Downloads/Books_small_10000.json'\n",
    "\n",
    "reviews = []\n",
    "\n",
    "with open(file_name1) as f:\n",
    "    for line in f:\n",
    "        review = json.loads(line)\n",
    "        reviews.append(Review(review['reviewText'],review['overall']))"
   ]
  },
  {
   "cell_type": "code",
   "execution_count": 177,
   "id": "62b2fa3d-ec96-49b9-8287-4e6716212c2b",
   "metadata": {},
   "outputs": [
    {
     "data": {
      "text/plain": [
       "'POSITIVE'"
      ]
     },
     "execution_count": 177,
     "metadata": {},
     "output_type": "execute_result"
    }
   ],
   "source": [
    "reviews[45].sentiment"
   ]
  },
  {
   "cell_type": "code",
   "execution_count": 178,
   "id": "0de6dd1e-e334-45df-bab9-224e2633705f",
   "metadata": {},
   "outputs": [
    {
     "data": {
      "text/plain": [
       "10000"
      ]
     },
     "execution_count": 178,
     "metadata": {},
     "output_type": "execute_result"
    }
   ],
   "source": [
    "len(reviews)"
   ]
  },
  {
   "cell_type": "markdown",
   "id": "3f263057-3798-477a-b505-97465f1fc2c9",
   "metadata": {},
   "source": [
    "# Data proccessing "
   ]
  },
  {
   "cell_type": "code",
   "execution_count": 179,
   "id": "ecd9240e-ce62-4bbd-bcc3-b81d7667ea59",
   "metadata": {},
   "outputs": [],
   "source": [
    "from sklearn.model_selection import train_test_split\n",
    "train, test = train_test_split(reviews, test_size=.33)"
   ]
  },
  {
   "cell_type": "code",
   "execution_count": 180,
   "id": "d1132fbf-9784-404d-b03d-3b59de77a50f",
   "metadata": {},
   "outputs": [],
   "source": [
    "train_x = [x.text for x in train]\n",
    "train_y = [x.sentiment for x in train]"
   ]
  },
  {
   "cell_type": "code",
   "execution_count": 181,
   "id": "bd083641-7308-4120-851d-b1f4320d195a",
   "metadata": {},
   "outputs": [],
   "source": [
    "test_x = [x.text for x in test]\n",
    "test_y = [x.sentiment for x in test]"
   ]
  },
  {
   "cell_type": "code",
   "execution_count": 182,
   "id": "b68c0d91-d248-40d8-a5a8-8c3e06e81596",
   "metadata": {},
   "outputs": [
    {
     "name": "stdout",
     "output_type": "stream",
     "text": [
      "I would suggest the depth and the truth of that Show Time experience would be enriched by input from Magic, Kareem and Riley....none of which participated in the interviews that influenced this book.....Nothing here surprised or upset me being a fan of the Lakers at least back then.......It was amazing basketball and amazing excess that was fostered by Jerry Buss and the times ......However, I would guess the truth lies somewhere in the middle of some of the extreme stories told here.....( of course any biography these days must include as much sex and drugs and human frailty as is possible)  nonetheless...it brings back a damn fine time in basketball history....only to be later ruined by Michael Jordan and La Brawn (king of pussy rules NBA ---pussy meaning pussy cat for all you politically correct folks out there)....they are me first guys....Magic's team first dominance and fireworks....have not been matched....I should add the book was an easy read and written in a style that fostered that...\n",
      "[[0 0 0 ... 0 0 0]]\n"
     ]
    }
   ],
   "source": [
    "from sklearn.feature_extraction.text import CountVectorizer\n",
    "vectorizer = CountVectorizer()\n",
    "train_x_vectors = vectorizer.fit_transform(train_x)\n",
    "test_x_vector = vectorizer.transform(test_x)\n",
    "\n",
    "print(train_x[3])\n",
    "print(train_x_vectors[3].toarray())"
   ]
  },
  {
   "cell_type": "markdown",
   "id": "fc707a4d-5879-4b2a-89e7-4fb092fb2b07",
   "metadata": {},
   "source": [
    "# classification "
   ]
  },
  {
   "cell_type": "markdown",
   "id": "326e82b8-13e9-45f9-8112-ac25b7556204",
   "metadata": {},
   "source": [
    "> LINEAR SVM"
   ]
  },
  {
   "cell_type": "code",
   "execution_count": 183,
   "id": "a7e6e66a-970a-4702-a08e-7965d110003e",
   "metadata": {},
   "outputs": [
    {
     "data": {
      "text/plain": [
       "SVC(kernel='linear')"
      ]
     },
     "execution_count": 183,
     "metadata": {},
     "output_type": "execute_result"
    }
   ],
   "source": [
    "from sklearn import svm\n",
    "clf_svm = svm.SVC(kernel = 'linear')\n",
    "clf_svm.fit(train_x_vectors,train_y)"
   ]
  },
  {
   "cell_type": "code",
   "execution_count": 191,
   "id": "ee95e143-3fb8-439e-bbf0-73a521a16f3d",
   "metadata": {},
   "outputs": [
    {
     "data": {
      "text/plain": [
       "array(['POSITIVE'], dtype='<U8')"
      ]
     },
     "execution_count": 191,
     "metadata": {},
     "output_type": "execute_result"
    }
   ],
   "source": [
    "clf_svm.predict(test_x_vector[7])"
   ]
  },
  {
   "cell_type": "markdown",
   "id": "394f1e5e-f455-4abe-80a9-f1d3e1ef56ce",
   "metadata": {},
   "source": [
    "> DECISION TREE"
   ]
  },
  {
   "cell_type": "code",
   "execution_count": 192,
   "id": "94dc715e-5e3c-43d4-a50e-1d6ef96c7a13",
   "metadata": {},
   "outputs": [
    {
     "data": {
      "text/plain": [
       "DecisionTreeClassifier()"
      ]
     },
     "execution_count": 192,
     "metadata": {},
     "output_type": "execute_result"
    }
   ],
   "source": [
    "from sklearn.tree import DecisionTreeClassifier\n",
    "clf_dec = DecisionTreeClassifier()\n",
    "clf_dec.fit(train_x_vectors, train_y)"
   ]
  },
  {
   "cell_type": "code",
   "execution_count": 193,
   "id": "ba99bf75-007c-4628-a5a2-873145617d16",
   "metadata": {},
   "outputs": [
    {
     "data": {
      "text/plain": [
       "array(['NEUTRAL'], dtype='<U8')"
      ]
     },
     "execution_count": 193,
     "metadata": {},
     "output_type": "execute_result"
    }
   ],
   "source": [
    "clf_dec.predict(test_x_vector[7])"
   ]
  },
  {
   "cell_type": "markdown",
   "id": "72d356fb-830f-42c6-8bc2-58cc5e5d4c04",
   "metadata": {},
   "source": [
    "> NAIVE BAYES"
   ]
  },
  {
   "cell_type": "code",
   "execution_count": 194,
   "id": "50afa603-acde-4d1c-9f27-a26a36db592f",
   "metadata": {},
   "outputs": [],
   "source": [
    "# from sklearn.naive_bayes import GaussianNB\n",
    "# clf_gnb = GaussianNB()\n",
    "# clf_gnb.fit(train_x_vectors, train_y)"
   ]
  },
  {
   "cell_type": "markdown",
   "id": "5de0dea9-edc7-49b4-8411-0050874d9d06",
   "metadata": {},
   "source": [
    "> LOGISTIC REGRESION"
   ]
  },
  {
   "cell_type": "code",
   "execution_count": 195,
   "id": "71256a02-c30a-4a11-8d14-af279feb074c",
   "metadata": {},
   "outputs": [
    {
     "data": {
      "text/plain": [
       "LogisticRegression(max_iter=1000)"
      ]
     },
     "execution_count": 195,
     "metadata": {},
     "output_type": "execute_result"
    }
   ],
   "source": [
    "from sklearn.linear_model import LogisticRegression\n",
    "\n",
    "clf_log = LogisticRegression(max_iter=1000)\n",
    "clf_log.fit(train_x_vectors, train_y)"
   ]
  },
  {
   "cell_type": "code",
   "execution_count": 196,
   "id": "fda7c620-d8d2-45e7-82f8-b0ae9207ddf1",
   "metadata": {},
   "outputs": [
    {
     "data": {
      "text/plain": [
       "array(['POSITIVE'], dtype='<U8')"
      ]
     },
     "execution_count": 196,
     "metadata": {},
     "output_type": "execute_result"
    }
   ],
   "source": [
    "clf_log.predict(test_x_vector[7])"
   ]
  },
  {
   "cell_type": "markdown",
   "id": "97dd0d7f-a693-4227-8357-dd5cedf4074f",
   "metadata": {},
   "source": [
    "## Evaluation"
   ]
  },
  {
   "cell_type": "markdown",
   "id": "e93ae49e-0f5b-4ebb-b76e-2f384bf95439",
   "metadata": {},
   "source": [
    "> score"
   ]
  },
  {
   "cell_type": "code",
   "execution_count": 197,
   "id": "408ef46c-93fd-4837-8433-8d5df9c445d7",
   "metadata": {},
   "outputs": [
    {
     "name": "stdout",
     "output_type": "stream",
     "text": [
      "0.8257575757575758\n",
      "0.7984848484848485\n",
      "0.8484848484848485\n"
     ]
    }
   ],
   "source": [
    "print(clf_svm.score(test_x_vector, test_y))\n",
    "print(clf_dec.score(test_x_vector, test_y))\n",
    "print(clf_log.score(test_x_vector, test_y))"
   ]
  },
  {
   "cell_type": "markdown",
   "id": "c06e1999-1fdf-4d91-b62c-33e86e22a96b",
   "metadata": {},
   "source": [
    "> f1 score "
   ]
  },
  {
   "cell_type": "code",
   "execution_count": 198,
   "id": "b3b12a48-59e1-43a1-b78c-6790b508da6e",
   "metadata": {},
   "outputs": [
    {
     "data": {
      "text/plain": [
       "array([0.91150125, 0.28571429, 0.45673077])"
      ]
     },
     "execution_count": 198,
     "metadata": {},
     "output_type": "execute_result"
    }
   ],
   "source": [
    "from sklearn.metrics import f1_score \n",
    "\n",
    "f1_score(test_y, clf_svm.predict(test_x_vector), average=None, labels = [Sentiment.POSITIVE, Sentiment.NEUTRAL, Sentiment.NEGATIVE])"
   ]
  },
  {
   "cell_type": "code",
   "execution_count": 199,
   "id": "c56c378f-1e68-4193-82b3-0dbfbec7bdb3",
   "metadata": {},
   "outputs": [
    {
     "data": {
      "text/plain": [
       "array([0.89515141, 0.15384615, 0.20903955])"
      ]
     },
     "execution_count": 199,
     "metadata": {},
     "output_type": "execute_result"
    }
   ],
   "source": [
    "f1_score(test_y, clf_dec.predict(test_x_vector,), average=None, labels = [Sentiment.POSITIVE, Sentiment.NEUTRAL, Sentiment.NEGATIVE])"
   ]
  },
  {
   "cell_type": "code",
   "execution_count": 200,
   "id": "723957ef-c391-4104-bb28-8b60e7d6be60",
   "metadata": {},
   "outputs": [
    {
     "data": {
      "text/plain": [
       "array([0.92479888, 0.29867675, 0.43626062])"
      ]
     },
     "execution_count": 200,
     "metadata": {},
     "output_type": "execute_result"
    }
   ],
   "source": [
    "f1_score(test_y, clf_log.predict(test_x_vector),average=None, labels = [Sentiment.POSITIVE, Sentiment.NEUTRAL, Sentiment.NEGATIVE])"
   ]
  },
  {
   "cell_type": "code",
   "execution_count": 201,
   "id": "ddd20d90-a186-483c-94b6-4b2d9d387b8e",
   "metadata": {},
   "outputs": [
    {
     "data": {
      "text/plain": [
       "441"
      ]
     },
     "execution_count": 201,
     "metadata": {},
     "output_type": "execute_result"
    }
   ],
   "source": [
    "train_y.count(Sentiment.NEGATIVE)"
   ]
  },
  {
   "cell_type": "markdown",
   "id": "860c2076-0ca6-430b-a62b-62de7650bd1d",
   "metadata": {},
   "source": [
    "> ..... Doing grid search "
   ]
  },
  {
   "cell_type": "code",
   "execution_count": null,
   "id": "1108285e-d9f7-4a51-9c75-944d87608f9c",
   "metadata": {},
   "outputs": [],
   "source": [
    "from sklearn.model_selection import GridSearchCV\n",
    "parameters = {'kernel':('linear','rbf'), 'C':(1,4,8,16,32)}\n",
    "svc = svm.SVC()\n",
    "clf = GridSearchCV(svc, parameters, cv = 5)\n",
    "clf.fit(train_x_vectors, train_y)"
   ]
  },
  {
   "cell_type": "markdown",
   "id": "36337e8c-dbe7-4fd4-9d58-41a28ad39feb",
   "metadata": {},
   "source": [
    "from sklearn.model_selection import GridSearchCV\n",
    "parameters = {'kernel' : ('linear','rbf'), 'C':(1,4,8,16,32)}\n",
    "svc = svm.SVC()\n",
    "clf = GridSearchCV(svc, parameters, cv=5)\n",
    "clf.fit(train_x_vectors, train_y)"
   ]
  },
  {
   "cell_type": "code",
   "execution_count": 206,
   "id": "599fe029-cd39-448b-868b-4b2173d21b9b",
   "metadata": {},
   "outputs": [
    {
     "data": {
      "text/plain": [
       "0.8515151515151516"
      ]
     },
     "execution_count": 206,
     "metadata": {},
     "output_type": "execute_result"
    }
   ],
   "source": [
    "clf.score(test_x_vector, test_y)"
   ]
  },
  {
   "cell_type": "markdown",
   "id": "1e2a1262-f88f-4d89-a1a8-8a1d07ab7a43",
   "metadata": {},
   "source": [
    "# SAVING THE MODEL USING PICKLE LIBLARY"
   ]
  },
  {
   "cell_type": "code",
   "execution_count": 207,
   "id": "e8716fa0-1cb7-4577-9f1e-986ed054ec19",
   "metadata": {},
   "outputs": [],
   "source": [
    "import pickle \n",
    "with open('/home/aidleroinc/models/sentimental_classifier.pkl', 'wb') as f:\n",
    "    pickle.dump(clf, f)"
   ]
  },
  {
   "cell_type": "markdown",
   "id": "ecc95421-1c2e-46a6-904f-703e37b514c3",
   "metadata": {},
   "source": [
    "> LOADING THE MODEL "
   ]
  },
  {
   "cell_type": "code",
   "execution_count": 208,
   "id": "b1e01c79-0549-41d1-93c3-ced6c40f8ffa",
   "metadata": {},
   "outputs": [],
   "source": [
    "with open('/home/aidleroinc/models/sentimental_classifier.pkl', 'rb') as f:\n",
    "    loaded_clf = pickle.load(f)"
   ]
  },
  {
   "cell_type": "code",
   "execution_count": 210,
   "id": "6774b95b-a250-4bb9-87e2-fa1f580d4f39",
   "metadata": {},
   "outputs": [
    {
     "data": {
      "text/plain": [
       "array(['POSITIVE'], dtype='<U8')"
      ]
     },
     "execution_count": 210,
     "metadata": {},
     "output_type": "execute_result"
    }
   ],
   "source": [
    "loaded_clf.predict(test_x_vector[999])"
   ]
  },
  {
   "cell_type": "markdown",
   "id": "1b67cb67-fbab-4b7e-a9d9-d409abee03a3",
   "metadata": {},
   "source": [
    "# THE PROJECT WAS DONE SUCCESSFULLY AND ACTUALLY THIS IS THE FIRST MODEL TO BE STORED ON MY COMPUTER -:)"
   ]
  }
 ],
 "metadata": {
  "kernelspec": {
   "display_name": "Python 3",
   "language": "python",
   "name": "python3"
  },
  "language_info": {
   "codemirror_mode": {
    "name": "ipython",
    "version": 3
   },
   "file_extension": ".py",
   "mimetype": "text/x-python",
   "name": "python",
   "nbconvert_exporter": "python",
   "pygments_lexer": "ipython3",
   "version": "3.8.5"
  }
 },
 "nbformat": 4,
 "nbformat_minor": 5
}
