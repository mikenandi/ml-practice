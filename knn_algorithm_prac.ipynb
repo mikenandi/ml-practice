{
 "cells": [
  {
   "cell_type": "markdown",
   "id": "d21267e9-e891-4f01-bd1d-6be70a17e9fb",
   "metadata": {},
   "source": [
    "### importing liblaries"
   ]
  },
  {
   "cell_type": "code",
   "execution_count": 1,
   "id": "10dce2fd-399e-4b3d-b6ff-61c2f411f3dd",
   "metadata": {},
   "outputs": [],
   "source": [
    "import pandas as pd \n",
    "import numpy as np \n",
    "from sklearn.neighbors import KNeighborsClassifier\n",
    "from sklearn.metrics import f1_score\n",
    "from sklearn.preprocessing import LabelEncoder\n",
    "from sklearn.model_selection import train_test_split"
   ]
  },
  {
   "cell_type": "markdown",
   "id": "a031a118-df69-4c0e-a9ac-583c015cb371",
   "metadata": {},
   "source": [
    "## Loading the data using pandas"
   ]
  },
  {
   "cell_type": "code",
   "execution_count": 2,
   "id": "6e4ab7b7-cf45-488a-ae2e-54ae20ffa55d",
   "metadata": {},
   "outputs": [],
   "source": [
    "df = pd.read_csv('car.data')"
   ]
  },
  {
   "cell_type": "markdown",
   "id": "c69cada2-564d-4c8b-b043-953fe5530d8f",
   "metadata": {},
   "source": [
    "##### Data Analysis "
   ]
  },
  {
   "cell_type": "code",
   "execution_count": 3,
   "id": "b5e02316-adbe-41ab-bc09-0880e20ae86d",
   "metadata": {},
   "outputs": [
    {
     "data": {
      "text/html": [
       "<div>\n",
       "<style scoped>\n",
       "    .dataframe tbody tr th:only-of-type {\n",
       "        vertical-align: middle;\n",
       "    }\n",
       "\n",
       "    .dataframe tbody tr th {\n",
       "        vertical-align: top;\n",
       "    }\n",
       "\n",
       "    .dataframe thead th {\n",
       "        text-align: right;\n",
       "    }\n",
       "</style>\n",
       "<table border=\"1\" class=\"dataframe\">\n",
       "  <thead>\n",
       "    <tr style=\"text-align: right;\">\n",
       "      <th></th>\n",
       "      <th>buying</th>\n",
       "      <th>maint</th>\n",
       "      <th>doors</th>\n",
       "      <th>persons</th>\n",
       "      <th>lug_boot</th>\n",
       "      <th>safety</th>\n",
       "      <th>class</th>\n",
       "    </tr>\n",
       "  </thead>\n",
       "  <tbody>\n",
       "    <tr>\n",
       "      <th>0</th>\n",
       "      <td>vhigh</td>\n",
       "      <td>vhigh</td>\n",
       "      <td>2</td>\n",
       "      <td>2</td>\n",
       "      <td>small</td>\n",
       "      <td>low</td>\n",
       "      <td>unacc</td>\n",
       "    </tr>\n",
       "    <tr>\n",
       "      <th>1</th>\n",
       "      <td>vhigh</td>\n",
       "      <td>vhigh</td>\n",
       "      <td>2</td>\n",
       "      <td>2</td>\n",
       "      <td>small</td>\n",
       "      <td>med</td>\n",
       "      <td>unacc</td>\n",
       "    </tr>\n",
       "    <tr>\n",
       "      <th>2</th>\n",
       "      <td>vhigh</td>\n",
       "      <td>vhigh</td>\n",
       "      <td>2</td>\n",
       "      <td>2</td>\n",
       "      <td>small</td>\n",
       "      <td>high</td>\n",
       "      <td>unacc</td>\n",
       "    </tr>\n",
       "    <tr>\n",
       "      <th>3</th>\n",
       "      <td>vhigh</td>\n",
       "      <td>vhigh</td>\n",
       "      <td>2</td>\n",
       "      <td>2</td>\n",
       "      <td>med</td>\n",
       "      <td>low</td>\n",
       "      <td>unacc</td>\n",
       "    </tr>\n",
       "    <tr>\n",
       "      <th>4</th>\n",
       "      <td>vhigh</td>\n",
       "      <td>vhigh</td>\n",
       "      <td>2</td>\n",
       "      <td>2</td>\n",
       "      <td>med</td>\n",
       "      <td>med</td>\n",
       "      <td>unacc</td>\n",
       "    </tr>\n",
       "  </tbody>\n",
       "</table>\n",
       "</div>"
      ],
      "text/plain": [
       "  buying  maint doors persons lug_boot safety  class\n",
       "0  vhigh  vhigh     2       2    small    low  unacc\n",
       "1  vhigh  vhigh     2       2    small    med  unacc\n",
       "2  vhigh  vhigh     2       2    small   high  unacc\n",
       "3  vhigh  vhigh     2       2      med    low  unacc\n",
       "4  vhigh  vhigh     2       2      med    med  unacc"
      ]
     },
     "execution_count": 3,
     "metadata": {},
     "output_type": "execute_result"
    }
   ],
   "source": [
    "df.head()"
   ]
  },
  {
   "cell_type": "code",
   "execution_count": 4,
   "id": "ecffb3db-81ba-4e30-a9e6-85b57802028b",
   "metadata": {},
   "outputs": [
    {
     "data": {
      "text/plain": [
       "array(['vhigh', 'high', 'med', 'low'], dtype=object)"
      ]
     },
     "execution_count": 4,
     "metadata": {},
     "output_type": "execute_result"
    }
   ],
   "source": [
    "df['buying'].unique()"
   ]
  },
  {
   "cell_type": "code",
   "execution_count": 5,
   "id": "606947a4-a6b4-468e-8b14-565547495166",
   "metadata": {},
   "outputs": [
    {
     "data": {
      "text/plain": [
       "array(['vhigh', 'high', 'med', 'low'], dtype=object)"
      ]
     },
     "execution_count": 5,
     "metadata": {},
     "output_type": "execute_result"
    }
   ],
   "source": [
    "df['maint'].unique()"
   ]
  },
  {
   "cell_type": "code",
   "execution_count": 6,
   "id": "da931925-1646-48af-8dba-ff48f68ebded",
   "metadata": {},
   "outputs": [
    {
     "data": {
      "text/plain": [
       "array(['2', '3', '4', '5more'], dtype=object)"
      ]
     },
     "execution_count": 6,
     "metadata": {},
     "output_type": "execute_result"
    }
   ],
   "source": [
    "df['doors'].unique()"
   ]
  },
  {
   "cell_type": "code",
   "execution_count": 7,
   "id": "d686ab0a-2a11-4c09-aad6-377a9edcb6a6",
   "metadata": {},
   "outputs": [
    {
     "data": {
      "text/plain": [
       "array(['small', 'med', 'big'], dtype=object)"
      ]
     },
     "execution_count": 7,
     "metadata": {},
     "output_type": "execute_result"
    }
   ],
   "source": [
    "df['lug_boot'].unique()"
   ]
  },
  {
   "cell_type": "code",
   "execution_count": 8,
   "id": "118901da-523b-437f-b97b-f05ebcbf2848",
   "metadata": {},
   "outputs": [
    {
     "data": {
      "text/plain": [
       "array(['low', 'med', 'high'], dtype=object)"
      ]
     },
     "execution_count": 8,
     "metadata": {},
     "output_type": "execute_result"
    }
   ],
   "source": [
    "df['safety'].unique()"
   ]
  },
  {
   "cell_type": "code",
   "execution_count": 9,
   "id": "4492a10b-6971-4994-bd4f-a10377a324af",
   "metadata": {},
   "outputs": [
    {
     "data": {
      "text/plain": [
       "array(['unacc', 'acc', 'vgood', 'good'], dtype=object)"
      ]
     },
     "execution_count": 9,
     "metadata": {},
     "output_type": "execute_result"
    }
   ],
   "source": [
    "df['class'].unique()"
   ]
  },
  {
   "cell_type": "code",
   "execution_count": 10,
   "id": "4fd2c625-83bd-4841-b877-b6c7bbdaa8a5",
   "metadata": {},
   "outputs": [],
   "source": [
    "X = df[['buying', 'maint', 'safety']].values\n",
    "y = df[['class']]"
   ]
  },
  {
   "cell_type": "code",
   "execution_count": 11,
   "id": "cd2142b1-e89e-41dd-9279-9c88407d0dda",
   "metadata": {},
   "outputs": [
    {
     "data": {
      "text/html": [
       "<div>\n",
       "<style scoped>\n",
       "    .dataframe tbody tr th:only-of-type {\n",
       "        vertical-align: middle;\n",
       "    }\n",
       "\n",
       "    .dataframe tbody tr th {\n",
       "        vertical-align: top;\n",
       "    }\n",
       "\n",
       "    .dataframe thead th {\n",
       "        text-align: right;\n",
       "    }\n",
       "</style>\n",
       "<table border=\"1\" class=\"dataframe\">\n",
       "  <thead>\n",
       "    <tr style=\"text-align: right;\">\n",
       "      <th></th>\n",
       "      <th>buying</th>\n",
       "      <th>maint</th>\n",
       "      <th>doors</th>\n",
       "      <th>persons</th>\n",
       "      <th>lug_boot</th>\n",
       "      <th>safety</th>\n",
       "      <th>class</th>\n",
       "    </tr>\n",
       "  </thead>\n",
       "  <tbody>\n",
       "    <tr>\n",
       "      <th>0</th>\n",
       "      <td>vhigh</td>\n",
       "      <td>vhigh</td>\n",
       "      <td>2</td>\n",
       "      <td>2</td>\n",
       "      <td>small</td>\n",
       "      <td>low</td>\n",
       "      <td>unacc</td>\n",
       "    </tr>\n",
       "    <tr>\n",
       "      <th>1</th>\n",
       "      <td>vhigh</td>\n",
       "      <td>vhigh</td>\n",
       "      <td>2</td>\n",
       "      <td>2</td>\n",
       "      <td>small</td>\n",
       "      <td>med</td>\n",
       "      <td>unacc</td>\n",
       "    </tr>\n",
       "    <tr>\n",
       "      <th>2</th>\n",
       "      <td>vhigh</td>\n",
       "      <td>vhigh</td>\n",
       "      <td>2</td>\n",
       "      <td>2</td>\n",
       "      <td>small</td>\n",
       "      <td>high</td>\n",
       "      <td>unacc</td>\n",
       "    </tr>\n",
       "    <tr>\n",
       "      <th>3</th>\n",
       "      <td>vhigh</td>\n",
       "      <td>vhigh</td>\n",
       "      <td>2</td>\n",
       "      <td>2</td>\n",
       "      <td>med</td>\n",
       "      <td>low</td>\n",
       "      <td>unacc</td>\n",
       "    </tr>\n",
       "    <tr>\n",
       "      <th>4</th>\n",
       "      <td>vhigh</td>\n",
       "      <td>vhigh</td>\n",
       "      <td>2</td>\n",
       "      <td>2</td>\n",
       "      <td>med</td>\n",
       "      <td>med</td>\n",
       "      <td>unacc</td>\n",
       "    </tr>\n",
       "  </tbody>\n",
       "</table>\n",
       "</div>"
      ],
      "text/plain": [
       "  buying  maint doors persons lug_boot safety  class\n",
       "0  vhigh  vhigh     2       2    small    low  unacc\n",
       "1  vhigh  vhigh     2       2    small    med  unacc\n",
       "2  vhigh  vhigh     2       2    small   high  unacc\n",
       "3  vhigh  vhigh     2       2      med    low  unacc\n",
       "4  vhigh  vhigh     2       2      med    med  unacc"
      ]
     },
     "execution_count": 11,
     "metadata": {},
     "output_type": "execute_result"
    }
   ],
   "source": [
    "df.head()"
   ]
  },
  {
   "cell_type": "code",
   "execution_count": 12,
   "id": "70194a0e-5f35-4853-89a0-45275a00825d",
   "metadata": {},
   "outputs": [
    {
     "data": {
      "text/plain": [
       "array(['vhigh', 'vhigh', 'vhigh', ..., 'low', 'low', 'low'], dtype=object)"
      ]
     },
     "execution_count": 12,
     "metadata": {},
     "output_type": "execute_result"
    }
   ],
   "source": [
    "X[:,1]"
   ]
  },
  {
   "cell_type": "markdown",
   "id": "99daae7b-4d9a-4163-997a-9de5473b0aed",
   "metadata": {},
   "source": [
    "# By using the label encoder"
   ]
  },
  {
   "cell_type": "code",
   "execution_count": 13,
   "id": "9553824a-87b4-4d00-a6cf-f77f4584e596",
   "metadata": {},
   "outputs": [],
   "source": [
    "le = LabelEncoder()\n",
    "for i in range(len(X[0])):\n",
    "    X[:, i] = le.fit_transform(X[:, i])"
   ]
  },
  {
   "cell_type": "code",
   "execution_count": 14,
   "id": "e061c30c-51ff-4c8b-af62-0f583ffec870",
   "metadata": {},
   "outputs": [
    {
     "data": {
      "text/plain": [
       "array([[3, 3, 1],\n",
       "       [3, 3, 2],\n",
       "       [3, 3, 0],\n",
       "       ...,\n",
       "       [1, 1, 1],\n",
       "       [1, 1, 2],\n",
       "       [1, 1, 0]], dtype=object)"
      ]
     },
     "execution_count": 14,
     "metadata": {},
     "output_type": "execute_result"
    }
   ],
   "source": [
    "X"
   ]
  },
  {
   "cell_type": "markdown",
   "id": "79e43b9c-c57a-4d73-a67d-bb7bbb7601fc",
   "metadata": {},
   "source": [
    "> Label maping by using dictionary"
   ]
  },
  {
   "cell_type": "code",
   "execution_count": 15,
   "id": "914ff1e3-814d-4f0e-9053-3aeac67b444c",
   "metadata": {},
   "outputs": [],
   "source": [
    "def enc(input):\n",
    "    label_maping = {\n",
    "    'unacc': 0,\n",
    "    'acc':1,\n",
    "    'good':2,\n",
    "    'vgood':3,\n",
    "    }\n",
    "    for nat, en in label_maping.items():\n",
    "        if input in nat:\n",
    "            return en\n",
    "    \n",
    "\n",
    "df['class'] = df['class'].apply(enc)"
   ]
  },
  {
   "cell_type": "code",
   "execution_count": 16,
   "id": "fbe824d0-4842-4331-95db-ac0972689af6",
   "metadata": {},
   "outputs": [],
   "source": [
    "y = df['class']"
   ]
  },
  {
   "cell_type": "markdown",
   "id": "05f9d91e-2a1f-46ae-8a70-823cdee66943",
   "metadata": {},
   "source": [
    "## setting up the model parameters"
   ]
  },
  {
   "cell_type": "code",
   "execution_count": 17,
   "id": "783c25f2-bdfe-49e9-89fb-2932c8e6d695",
   "metadata": {},
   "outputs": [],
   "source": [
    "knn = KNeighborsClassifier(n_neighbors=25, weights='uniform')"
   ]
  },
  {
   "cell_type": "markdown",
   "id": "237806dd-0612-4b14-888a-32dbab987655",
   "metadata": {},
   "source": [
    "## spitting in train and test data"
   ]
  },
  {
   "cell_type": "code",
   "execution_count": 18,
   "id": "7ce89fd2-94e6-4b1e-8a2d-8688fceaeb92",
   "metadata": {},
   "outputs": [],
   "source": [
    "X_train, X_test, y_train, y_test = train_test_split(X, y , test_size=.33)"
   ]
  },
  {
   "cell_type": "markdown",
   "id": "f929e8d9-a102-4b34-a65c-08bb2ff15842",
   "metadata": {},
   "source": [
    "## fitting the model "
   ]
  },
  {
   "cell_type": "code",
   "execution_count": 19,
   "id": "f4efab00-dcc8-49af-b130-83086b9f3fa4",
   "metadata": {},
   "outputs": [
    {
     "data": {
      "text/plain": [
       "KNeighborsClassifier(n_neighbors=25)"
      ]
     },
     "execution_count": 19,
     "metadata": {},
     "output_type": "execute_result"
    }
   ],
   "source": [
    "knn.fit(X_train, y_train)"
   ]
  },
  {
   "cell_type": "code",
   "execution_count": 20,
   "id": "d69e3f53-8355-4a2a-8d1b-5506acff9d5a",
   "metadata": {},
   "outputs": [
    {
     "data": {
      "text/plain": [
       "array([3, 3, 1], dtype=object)"
      ]
     },
     "execution_count": 20,
     "metadata": {},
     "output_type": "execute_result"
    }
   ],
   "source": [
    "X[0]"
   ]
  },
  {
   "cell_type": "code",
   "execution_count": 21,
   "id": "f5357755-0b33-4a6f-9ad9-91540c48caa1",
   "metadata": {},
   "outputs": [
    {
     "data": {
      "text/plain": [
       "0.9211908931698775"
      ]
     },
     "execution_count": 21,
     "metadata": {},
     "output_type": "execute_result"
    }
   ],
   "source": [
    "knn.predict(X_test)\n",
    "knn.score(X_test, y_test)"
   ]
  },
  {
   "cell_type": "code",
   "execution_count": 22,
   "id": "d017fac3-b3a3-4e2d-945e-78eb3da2e687",
   "metadata": {},
   "outputs": [
    {
     "name": "stdout",
     "output_type": "stream",
     "text": [
      "<class 'numpy.ndarray'>\n"
     ]
    }
   ],
   "source": [
    "knn.predict(X_test[[1]])\n",
    "print(type(X_test[[1]]))"
   ]
  },
  {
   "cell_type": "code",
   "execution_count": 23,
   "id": "25d13c5c-eadc-4dbe-bec4-e979df6a925f",
   "metadata": {},
   "outputs": [
    {
     "data": {
      "text/plain": [
       "1333    0\n",
       "1514    0\n",
       "1122    0\n",
       "106     0\n",
       "1199    2\n",
       "       ..\n",
       "1705    0\n",
       "1361    0\n",
       "805     0\n",
       "796     0\n",
       "456     0\n",
       "Name: class, Length: 571, dtype: int64"
      ]
     },
     "execution_count": 23,
     "metadata": {},
     "output_type": "execute_result"
    }
   ],
   "source": [
    "y_test"
   ]
  },
  {
   "cell_type": "markdown",
   "id": "dd691044-7d3a-4aeb-9441-ea46559cd50a",
   "metadata": {},
   "source": [
    "## Saving the model using the pickle liblary "
   ]
  },
  {
   "cell_type": "code",
   "execution_count": 24,
   "id": "309a77c0-ded5-4c8f-b617-34b3a828b28e",
   "metadata": {},
   "outputs": [],
   "source": [
    "import pickle "
   ]
  },
  {
   "cell_type": "code",
   "execution_count": 25,
   "id": "659baf2c-d559-46cb-9f39-1b9080cbcd1a",
   "metadata": {},
   "outputs": [],
   "source": [
    "with open('/home/aidleroinc/models/knn.pkl', 'wb') as f:\n",
    "    pickle.dump(knn, f)"
   ]
  },
  {
   "cell_type": "code",
   "execution_count": 26,
   "id": "45947066-198e-457c-a48c-b128832d609a",
   "metadata": {},
   "outputs": [],
   "source": [
    "with open('/home/aidleroinc/models/knn.pkl', 'rb') as f:\n",
    "    loaded_model = pickle.load(f)"
   ]
  },
  {
   "cell_type": "code",
   "execution_count": 27,
   "id": "0b405a67-c7d5-40d8-a451-548b0aabeb18",
   "metadata": {},
   "outputs": [
    {
     "data": {
      "text/plain": [
       "array([0])"
      ]
     },
     "execution_count": 27,
     "metadata": {},
     "output_type": "execute_result"
    }
   ],
   "source": [
    "loaded_model.predict(X_test[[0]])"
   ]
  },
  {
   "cell_type": "markdown",
   "id": "05431efe-21e7-4ff7-a049-e005010512b3",
   "metadata": {},
   "source": [
    "### The job was done here actually then knn algorithm was used successfull in this project"
   ]
  },
  {
   "cell_type": "code",
   "execution_count": 36,
   "id": "293d678b-72c7-4f31-8e58-37666f1d3d85",
   "metadata": {},
   "outputs": [
    {
     "name": "stdout",
     "output_type": "stream",
     "text": [
      "<class 'numpy.int64'>\n",
      "<class 'float'>\n",
      "0\n"
     ]
    }
   ],
   "source": [
    "arr = [[1, 1, 1]]\n",
    "# arr = np.ndarray(arr)\n",
    "\n",
    "r = loaded_model.predict(arr)[0]\n",
    "print(type(r))\n",
    "z = float(r)\n",
    "print(type(z))\n",
    "print(r)"
   ]
  },
  {
   "cell_type": "code",
   "execution_count": 29,
   "id": "416665ff-617a-4a2f-aadd-c0691a6d66a4",
   "metadata": {},
   "outputs": [
    {
     "data": {
      "text/plain": [
       "KNeighborsClassifier(n_neighbors=25)"
      ]
     },
     "execution_count": 29,
     "metadata": {},
     "output_type": "execute_result"
    }
   ],
   "source": [
    "loaded_model"
   ]
  },
  {
   "cell_type": "code",
   "execution_count": null,
   "id": "ccf8460b-2217-4feb-b900-474a8b6df16d",
   "metadata": {},
   "outputs": [],
   "source": []
  }
 ],
 "metadata": {
  "kernelspec": {
   "display_name": "Python 3",
   "language": "python",
   "name": "python3"
  },
  "language_info": {
   "codemirror_mode": {
    "name": "ipython",
    "version": 3
   },
   "file_extension": ".py",
   "mimetype": "text/x-python",
   "name": "python",
   "nbconvert_exporter": "python",
   "pygments_lexer": "ipython3",
   "version": "3.8.5"
  }
 },
 "nbformat": 4,
 "nbformat_minor": 5
}
