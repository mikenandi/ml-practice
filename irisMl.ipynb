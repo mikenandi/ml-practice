{
 "cells": [
  {
   "cell_type": "code",
   "execution_count": 12,
   "id": "8a9226e7-fd21-4e80-8d7a-38eb5fa855b3",
   "metadata": {},
   "outputs": [],
   "source": [
    "import numpy as np \n",
    "from sklearn import datasets\n",
    "from sklearn.model_selection import train_test_split\n",
    "from sklearn import svm"
   ]
  },
  {
   "cell_type": "code",
   "execution_count": 13,
   "id": "dd7cb741-02e1-4ee1-9163-8b1df77a4631",
   "metadata": {},
   "outputs": [],
   "source": [
    "iris = datasets.load_iris()"
   ]
  },
  {
   "cell_type": "code",
   "execution_count": 14,
   "id": "2c05a646-c5a5-4436-a42d-1e2c1b44cae9",
   "metadata": {},
   "outputs": [],
   "source": [
    "X = iris.data\n",
    "y = iris.target"
   ]
  },
  {
   "cell_type": "code",
   "execution_count": 15,
   "id": "cf186636-37d7-4e44-849f-54daba3a0a26",
   "metadata": {},
   "outputs": [],
   "source": [
    "# X.shape"
   ]
  },
  {
   "cell_type": "code",
   "execution_count": 16,
   "id": "a905ab0d-d2f5-45a4-97e9-a58175d820f5",
   "metadata": {},
   "outputs": [],
   "source": [
    "# y.shape"
   ]
  },
  {
   "cell_type": "code",
   "execution_count": 17,
   "id": "c41336e8-1d5c-4446-9b45-7b8d0bc054fc",
   "metadata": {},
   "outputs": [],
   "source": [
    "classes = ['Iris setosa','Iris versicolor','Iris Virginica']"
   ]
  },
  {
   "cell_type": "code",
   "execution_count": 18,
   "id": "c2d9121c-4f83-4673-ae92-3c0012f70169",
   "metadata": {},
   "outputs": [],
   "source": [
    "X_train, X_test, y_train, y_test = train_test_split(X, y, test_size=.33)"
   ]
  },
  {
   "cell_type": "code",
   "execution_count": 20,
   "id": "74cc4286-7a50-4e34-bcc9-bb11d77a015d",
   "metadata": {},
   "outputs": [],
   "source": [
    "# X_test.shape"
   ]
  },
  {
   "cell_type": "code",
   "execution_count": 22,
   "id": "7236b81c-3c1c-4d8c-bc63-19ed93b8a516",
   "metadata": {},
   "outputs": [
    {
     "data": {
      "text/plain": [
       "SVC()"
      ]
     },
     "execution_count": 22,
     "metadata": {},
     "output_type": "execute_result"
    }
   ],
   "source": [
    "model = svm.SVC()\n",
    "model.fit(X_train, y_train)"
   ]
  },
  {
   "cell_type": "markdown",
   "id": "d567866d-4da9-4f26-bf0b-dbdbfc7e589b",
   "metadata": {},
   "source": [
    "model"
   ]
  },
  {
   "cell_type": "code",
   "execution_count": 24,
   "id": "9af6cbfc-0252-464e-bd00-376538bad5c5",
   "metadata": {},
   "outputs": [],
   "source": [
    "# model"
   ]
  },
  {
   "cell_type": "code",
   "execution_count": 25,
   "id": "b67b9376-015c-4bf3-a9c0-32edb21656d1",
   "metadata": {},
   "outputs": [],
   "source": [
    "from sklearn.metrics import accuracy_score"
   ]
  },
  {
   "cell_type": "code",
   "execution_count": 28,
   "id": "068064b9-c90f-4daf-8fb6-5e08f284190a",
   "metadata": {},
   "outputs": [],
   "source": [
    "predictions = model.predict(X_test)\n",
    "acc = accuracy_score(y_test, predictions)"
   ]
  },
  {
   "cell_type": "code",
   "execution_count": 29,
   "id": "5f40d89c-3e32-4c74-835b-072173732cd4",
   "metadata": {},
   "outputs": [
    {
     "data": {
      "text/plain": [
       "0.92"
      ]
     },
     "execution_count": 29,
     "metadata": {},
     "output_type": "execute_result"
    }
   ],
   "source": [
    "acc"
   ]
  },
  {
   "cell_type": "code",
   "execution_count": 31,
   "id": "986ac785-71cf-4922-b439-a8c625de19f4",
   "metadata": {},
   "outputs": [],
   "source": [
    "# print('predictions: ', predictions)\n",
    "# print('actual: ', y_test)"
   ]
  },
  {
   "cell_type": "code",
   "execution_count": null,
   "id": "8dec6106-4b11-404f-b7e5-4735383229da",
   "metadata": {},
   "outputs": [],
   "source": []
  }
 ],
 "metadata": {
  "kernelspec": {
   "display_name": "Python 3",
   "language": "python",
   "name": "python3"
  },
  "language_info": {
   "codemirror_mode": {
    "name": "ipython",
    "version": 3
   },
   "file_extension": ".py",
   "mimetype": "text/x-python",
   "name": "python",
   "nbconvert_exporter": "python",
   "pygments_lexer": "ipython3",
   "version": "3.8.5"
  }
 },
 "nbformat": 4,
 "nbformat_minor": 5
}
