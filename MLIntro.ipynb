{
 "cells": [
  {
   "cell_type": "code",
   "execution_count": 11,
   "id": "9c10244f-6d43-4140-9889-6cf592d275b8",
   "metadata": {},
   "outputs": [],
   "source": [
    "# from sklearn import datasets\n",
    "# import numpy as np\n",
    "# from sklearn.model_selection import train_test_split"
   ]
  },
  {
   "cell_type": "code",
   "execution_count": 12,
   "id": "fccd45ca-78db-44d9-96f4-46a17f15a019",
   "metadata": {},
   "outputs": [],
   "source": [
    "# iris = datasets.load_iris()"
   ]
  },
  {
   "cell_type": "code",
   "execution_count": 13,
   "id": "758554f4-40c1-4bb7-a105-152fa8b859a9",
   "metadata": {},
   "outputs": [],
   "source": [
    "# X = iris.data\n",
    "# y = iris.target"
   ]
  },
  {
   "cell_type": "code",
   "execution_count": 14,
   "id": "b204e6d7-c554-4483-b5d2-7d722bb468a8",
   "metadata": {},
   "outputs": [],
   "source": [
    "# print(X.shape)\n",
    "# print(y.shape)"
   ]
  },
  {
   "cell_type": "code",
   "execution_count": 15,
   "id": "280dee58-23ac-4c66-9b26-4a34c683d04d",
   "metadata": {},
   "outputs": [],
   "source": [
    "# X_train, X_test, y_train, y_test = train_test_split(X, y, test_size=0.2) "
   ]
  },
  {
   "cell_type": "code",
   "execution_count": 16,
   "id": "f72a0f63-cfb3-4ce0-bcae-a2f620e35f31",
   "metadata": {},
   "outputs": [],
   "source": [
    "# print(X_train.shape)"
   ]
  },
  {
   "cell_type": "code",
   "execution_count": 1,
   "id": "24a6e4b2",
   "metadata": {},
   "outputs": [],
   "source": [
    "# import pandas as pd\n",
    "# import numpy as np\n",
    "# from sklearn import neighbors, metrics\n",
    "# from sklearn.model_selection import train_test_split\n",
    "# from sklearn.preprocessing import LabelEncoder"
   ]
  },
  {
   "cell_type": "code",
   "execution_count": 2,
   "id": "9ddcc455",
   "metadata": {},
   "outputs": [],
   "source": [
    "# df = pd.read_csv('car.data')"
   ]
  },
  {
   "cell_type": "code",
   "execution_count": 3,
   "id": "7763efac",
   "metadata": {},
   "outputs": [],
   "source": [
    "# df"
   ]
  },
  {
   "cell_type": "code",
   "execution_count": 4,
   "id": "22dce5f9",
   "metadata": {},
   "outputs": [],
   "source": [
    "# df.head()"
   ]
  },
  {
   "cell_type": "code",
   "execution_count": 7,
   "id": "10b4814e",
   "metadata": {},
   "outputs": [],
   "source": [
    "# X = df[['buying','maint','safety']]\n",
    "# y = df[['class']]"
   ]
  },
  {
   "cell_type": "code",
   "execution_count": 8,
   "id": "746f17b9",
   "metadata": {},
   "outputs": [],
   "source": [
    "# print(X, y)"
   ]
  },
  {
   "cell_type": "code",
   "execution_count": 40,
   "id": "18927712-510e-43f0-abfc-f4d31f195e41",
   "metadata": {},
   "outputs": [],
   "source": [
    "from sklearn import datasets\n",
    "from sklearn import linear_model\n",
    "from sklearn.model_selection import train_test_split\n",
    "from matplotlib import pyplot as plt\n",
    "from sklearn.metrics import accuracy_score"
   ]
  },
  {
   "cell_type": "code",
   "execution_count": 12,
   "id": "6a911a03-3038-4292-8ccf-3e3b973861a4",
   "metadata": {},
   "outputs": [],
   "source": [
    "boston = datasets.load_boston()"
   ]
  },
  {
   "cell_type": "code",
   "execution_count": 15,
   "id": "d995fbd7-c755-47c2-a98e-d309d54e2ffc",
   "metadata": {},
   "outputs": [],
   "source": [
    "# print(boston)\n",
    "X = boston.data\n",
    "y = boston.target"
   ]
  },
  {
   "cell_type": "code",
   "execution_count": 19,
   "id": "f8d80762-761e-413c-945c-b2e920888330",
   "metadata": {},
   "outputs": [
    {
     "data": {
      "text/plain": [
       "(506, 13)"
      ]
     },
     "execution_count": 19,
     "metadata": {},
     "output_type": "execute_result"
    }
   ],
   "source": [
    "X.shape "
   ]
  },
  {
   "cell_type": "code",
   "execution_count": 20,
   "id": "241736c0-a117-49fc-9449-4330467956df",
   "metadata": {},
   "outputs": [],
   "source": [
    "X_tain,X_test,y_train,y_test = train_test_split(X,y,test_size=0.33)"
   ]
  },
  {
   "cell_type": "code",
   "execution_count": 34,
   "id": "6d36136f-ddc3-43da-8263-3bcaa6eb0002",
   "metadata": {},
   "outputs": [],
   "source": [
    "#  X_test.shape"
   ]
  },
  {
   "cell_type": "code",
   "execution_count": 33,
   "id": "cdfa91cd-8ac9-4124-8546-920d4ec928cb",
   "metadata": {},
   "outputs": [],
   "source": [
    "# y_test.shape"
   ]
  },
  {
   "cell_type": "code",
   "execution_count": 26,
   "id": "fb1dc376-2cdd-4781-bb2b-df0b6e458e3a",
   "metadata": {},
   "outputs": [],
   "source": [
    "lin_reg = linear_model.LinearRegression()"
   ]
  },
  {
   "cell_type": "code",
   "execution_count": 32,
   "id": "e30061a4-f0bf-492e-84b4-6bc0e7c40b23",
   "metadata": {},
   "outputs": [],
   "source": [
    "# plt.scatter(X.T[2],y)\n",
    "# plt.show()"
   ]
  },
  {
   "cell_type": "code",
   "execution_count": 31,
   "id": "08ca865f-17c4-4871-8cff-f733ca6480dd",
   "metadata": {},
   "outputs": [],
   "source": [
    "# X_train, X_test, y_train, y_test = train_test_split(X, y , test_size=.33)"
   ]
  },
  {
   "cell_type": "code",
   "execution_count": 36,
   "id": "f5cfc096-7ccf-4666-a35e-52df0b59aa77",
   "metadata": {},
   "outputs": [],
   "source": [
    "model = lin_reg.fit(X_train, y_train)"
   ]
  },
  {
   "cell_type": "code",
   "execution_count": 38,
   "id": "145c3204-e8df-434c-b9a3-bf183c03fe2c",
   "metadata": {},
   "outputs": [],
   "source": [
    "# model"
   ]
  },
  {
   "cell_type": "code",
   "execution_count": 39,
   "id": "9b97a175-3616-42b8-9579-ab94797ec47c",
   "metadata": {},
   "outputs": [],
   "source": [
    "predictions = model.predict(X_test)"
   ]
  },
  {
   "cell_type": "code",
   "execution_count": 53,
   "id": "c1c9ba1c-f95b-4df6-9433-2763a422d255",
   "metadata": {},
   "outputs": [],
   "source": [
    "#  acc = accuracy_score(y_test, predictions)\n",
    "# predictions.shape\n",
    "# y_test.shape"
   ]
  },
  {
   "cell_type": "code",
   "execution_count": 54,
   "id": "07e5eeeb-6005-407f-87af-ed5603f49f88",
   "metadata": {},
   "outputs": [],
   "source": [
    "# predictions"
   ]
  },
  {
   "cell_type": "code",
   "execution_count": 55,
   "id": "299b9194-1932-438a-8e3d-b2cf14ebb35e",
   "metadata": {},
   "outputs": [],
   "source": [
    "# y_test"
   ]
  },
  {
   "cell_type": "code",
   "execution_count": 57,
   "id": "101241d1-8e2b-4e2f-a9d2-3e7281971208",
   "metadata": {},
   "outputs": [
    {
     "data": {
      "text/plain": [
       "0.7352852667697058"
      ]
     },
     "execution_count": 57,
     "metadata": {},
     "output_type": "execute_result"
    }
   ],
   "source": [
    "lin_reg.score(X, y)"
   ]
  },
  {
   "cell_type": "code",
   "execution_count": 58,
   "id": "f4011294-5217-41d1-a040-21e7e71c18ca",
   "metadata": {},
   "outputs": [
    {
     "data": {
      "text/plain": [
       "array([-9.95429864e-02,  4.77662312e-02,  5.33871088e-02,  4.10485848e+00,\n",
       "       -1.76609832e+01,  4.36677610e+00, -1.07360926e-03, -1.47142525e+00,\n",
       "        2.88988792e-01, -1.08260108e-02, -8.87675846e-01,  1.00863815e-02,\n",
       "       -5.71733852e-01])"
      ]
     },
     "execution_count": 58,
     "metadata": {},
     "output_type": "execute_result"
    }
   ],
   "source": [
    "lin_reg.coef_\n"
   ]
  },
  {
   "cell_type": "code",
   "execution_count": 7,
   "id": "9cad9a6b-15f6-481e-b441-a46e1ebd1c30",
   "metadata": {},
   "outputs": [
    {
     "name": "stdout",
     "output_type": "stream",
     "text": [
      "0\n",
      "1\n",
      "2\n",
      "3\n",
      "4\n",
      "5\n",
      "6\n"
     ]
    }
   ],
   "source": [
    "arr = [1,2,3,4,5,6,7]\n",
    "\n",
    "for i in range(len(arr)):\n",
    "    print(i)"
   ]
  },
  {
   "cell_type": "code",
   "execution_count": 59,
   "id": "2fa196f9-149a-49b9-811d-62edab4b2ae5",
   "metadata": {},
   "outputs": [
    {
     "data": {
      "text/plain": [
       "31.16042789955266"
      ]
     },
     "execution_count": 59,
     "metadata": {},
     "output_type": "execute_result"
    }
   ],
   "source": [
    "lin_reg.intercept_"
   ]
  }
 ],
 "metadata": {
  "kernelspec": {
   "display_name": "Python 3",
   "language": "python",
   "name": "python3"
  },
  "language_info": {
   "codemirror_mode": {
    "name": "ipython",
    "version": 3
   },
   "file_extension": ".py",
   "mimetype": "text/x-python",
   "name": "python",
   "nbconvert_exporter": "python",
   "pygments_lexer": "ipython3",
   "version": "3.8.5"
  }
 },
 "nbformat": 4,
 "nbformat_minor": 5
}
