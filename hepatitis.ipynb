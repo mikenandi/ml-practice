{
 "cells": [
  {
   "cell_type": "code",
   "execution_count": 1,
   "id": "d2c3c475-06be-4f47-9273-df8f19845017",
   "metadata": {},
   "outputs": [],
   "source": [
    "import pandas  as pd \n",
    "import numpy as np\n",
    "df = pd.read_csv('/home/aidleroinc/Downloads/hepatitis.csv',na_values='?')"
   ]
  },
  {
   "cell_type": "code",
   "execution_count": 2,
   "id": "e417d153-338d-446f-9a8d-220f1780928e",
   "metadata": {},
   "outputs": [],
   "source": [
    "df.columns = ['CLASS','AGE','SEX','STEROID','ANTIVIRALS','FATIGUE','MALAISE','ANOREXIA','LIVER_BIG','LIVER_FIRM','SPLEEN_PALPABLE','SPIDERS','ASCITES','VARICES','BILIRUBIN','ALK_PHOSPHATE','SGOT','ALBUMIN','PROTIME','HISTOLOGY']"
   ]
  },
  {
   "cell_type": "code",
   "execution_count": 3,
   "id": "66e54bdd-9a71-4240-a60c-fb216b3ec7fb",
   "metadata": {},
   "outputs": [],
   "source": [
    "#  df"
   ]
  },
  {
   "cell_type": "code",
   "execution_count": 122,
   "id": "3d5fe94e-eb71-4952-8e53-2343ec39e772",
   "metadata": {},
   "outputs": [],
   "source": [
    "#df.dropna()"
   ]
  },
  {
   "cell_type": "code",
   "execution_count": 123,
   "id": "fb671912-e5ca-43e8-aad2-f4ba309a18f8",
   "metadata": {},
   "outputs": [],
   "source": [
    "del df['PROTIME']"
   ]
  },
  {
   "cell_type": "code",
   "execution_count": 124,
   "id": "7ed6d0b6-f243-47b0-996b-925d9ea52808",
   "metadata": {},
   "outputs": [],
   "source": [
    "# df.describe()"
   ]
  },
  {
   "cell_type": "code",
   "execution_count": 125,
   "id": "ffb826db-3755-4ab1-86f6-d7a6ec8056bd",
   "metadata": {},
   "outputs": [],
   "source": [
    "dn = df.dropna()"
   ]
  },
  {
   "cell_type": "code",
   "execution_count": 126,
   "id": "f3b8d36f-931c-44f5-a4a2-c94105c48dc9",
   "metadata": {},
   "outputs": [],
   "source": [
    "X = dn.copy()"
   ]
  },
  {
   "cell_type": "code",
   "execution_count": 127,
   "id": "a13ede01-c14d-40a2-afe5-1a79697ac251",
   "metadata": {},
   "outputs": [],
   "source": [
    "# X"
   ]
  },
  {
   "cell_type": "code",
   "execution_count": 128,
   "id": "a1589e79-7940-453b-96f6-2a50e8c77461",
   "metadata": {},
   "outputs": [],
   "source": [
    "y = X.pop(\"HISTOLOGY\")"
   ]
  },
  {
   "cell_type": "code",
   "execution_count": 129,
   "id": "a929ff70-2e51-48a4-8de8-d878c28d8aa1",
   "metadata": {},
   "outputs": [],
   "source": [
    "# y "
   ]
  },
  {
   "cell_type": "code",
   "execution_count": 130,
   "id": "be81b5f6-7385-41d4-a08e-e036d7a425b7",
   "metadata": {},
   "outputs": [],
   "source": [
    "# X\n",
    "from sklearn.model_selection import train_test_split"
   ]
  },
  {
   "cell_type": "code",
   "execution_count": 131,
   "id": "0e774107-7a1d-42ad-87a1-71b9bd952b2e",
   "metadata": {},
   "outputs": [],
   "source": [
    "X_train, X_test, y_train, y_test = train_test_split(X, y, test_size=0.33)"
   ]
  },
  {
   "cell_type": "code",
   "execution_count": 132,
   "id": "9dc8e446-99da-46aa-ae08-14807df756c9",
   "metadata": {},
   "outputs": [],
   "source": [
    "# X_train"
   ]
  },
  {
   "cell_type": "code",
   "execution_count": 133,
   "id": "3d8fdabb-6c88-4e2b-b241-3448e91426d4",
   "metadata": {},
   "outputs": [],
   "source": [
    "# y_train"
   ]
  },
  {
   "cell_type": "code",
   "execution_count": 134,
   "id": "40fb41f7-4e0d-42f0-bbb7-ff07669d4ce8",
   "metadata": {},
   "outputs": [],
   "source": [
    "from sklearn.naive_bayes import BernoulliNB\n",
    "clf = BernoulliNB()\n",
    "model = clf.fit(X_train, y_train)"
   ]
  },
  {
   "cell_type": "code",
   "execution_count": 135,
   "id": "f3d256d6-123e-4781-af5d-39bc55fad7ae",
   "metadata": {},
   "outputs": [
    {
     "data": {
      "text/plain": [
       "0.5675675675675675"
      ]
     },
     "execution_count": 135,
     "metadata": {},
     "output_type": "execute_result"
    }
   ],
   "source": [
    "model.score(X_train, y_train)"
   ]
  },
  {
   "cell_type": "code",
   "execution_count": 136,
   "id": "2a66467e-e879-4cfc-8bdb-a3293e4d40dd",
   "metadata": {},
   "outputs": [],
   "source": [
    "#x_test = x[57:]\n",
    "#y_test = y[57:]\n",
    "#x_test"
   ]
  },
  {
   "cell_type": "code",
   "execution_count": 137,
   "id": "b90ed739-7e25-4f0c-a00f-9376eb964e75",
   "metadata": {},
   "outputs": [],
   "source": [
    "# model.predict_proba(x_test)"
   ]
  },
  {
   "cell_type": "code",
   "execution_count": 138,
   "id": "7d75a6b9-f123-46a9-b573-ebe5ad17ef06",
   "metadata": {},
   "outputs": [],
   "source": [
    "# y_train.mean()"
   ]
  },
  {
   "cell_type": "code",
   "execution_count": 139,
   "id": "2959e530-8af3-4dbe-889b-1a17dcd1012e",
   "metadata": {},
   "outputs": [],
   "source": [
    "# y_test.mean()"
   ]
  },
  {
   "cell_type": "code",
   "execution_count": 145,
   "id": "41fcf2b3-7f91-44b6-b293-9311cb94041a",
   "metadata": {},
   "outputs": [],
   "source": [
    "from sklearn.ensemble import RandomForestClassifier\n",
    "from sklearn.linear_model import LogisticRegression\n",
    "# from sklearn.datasets import make_classification\n",
    "\n",
    "# X_train, y_train = make_classification(n_features=18)\n",
    "#X_train, y_train = make_classification()\n",
    "#clf = RandomForestClassifier(max_depth=2, random_state=0)\n",
    "clf = RandomForestClassifier()\n",
    "model2 = clf.fit(X_train, y_train)"
   ]
  },
  {
   "cell_type": "code",
   "execution_count": 146,
   "id": "34eae080-578b-4b5a-9830-bc30525ef138",
   "metadata": {},
   "outputs": [
    {
     "data": {
      "text/plain": [
       "0.6756756756756757"
      ]
     },
     "execution_count": 146,
     "metadata": {},
     "output_type": "execute_result"
    }
   ],
   "source": [
    "model2.score(X_test, y_test)"
   ]
  },
  {
   "cell_type": "code",
   "execution_count": 147,
   "id": "41fbd449-bb32-4ad8-bc13-a3b837ec83fc",
   "metadata": {},
   "outputs": [],
   "source": [
    "#from sklearn.datasets import load_iris\n",
    "#from sklearn.linear_model import LogisticRegression"
   ]
  },
  {
   "cell_type": "code",
   "execution_count": 148,
   "id": "b8ccec7c-884a-4784-817c-8c0b22cd472d",
   "metadata": {},
   "outputs": [],
   "source": [
    "model3 = LogisticRegression(random_state=0,max_iter=1000).fit(X_train, y_train)"
   ]
  },
  {
   "cell_type": "code",
   "execution_count": 149,
   "id": "1fc9a50b-e1ca-4e7b-ba27-590e7c22f7d0",
   "metadata": {},
   "outputs": [
    {
     "data": {
      "text/plain": [
       "0.7567567567567568"
      ]
     },
     "execution_count": 149,
     "metadata": {},
     "output_type": "execute_result"
    }
   ],
   "source": [
    "model3.score(X_test, y_test)"
   ]
  },
  {
   "cell_type": "code",
   "execution_count": null,
   "id": "41e7fe4d-3e93-4ac6-b0ed-e1fef6f986d4",
   "metadata": {},
   "outputs": [],
   "source": []
  },
  {
   "cell_type": "code",
   "execution_count": null,
   "id": "a4b7f7db-94f9-43bb-93b4-c51060945daa",
   "metadata": {},
   "outputs": [],
   "source": []
  }
 ],
 "metadata": {
  "kernelspec": {
   "display_name": "Python 3",
   "language": "python",
   "name": "python3"
  },
  "language_info": {
   "codemirror_mode": {
    "name": "ipython",
    "version": 3
   },
   "file_extension": ".py",
   "mimetype": "text/x-python",
   "name": "python",
   "nbconvert_exporter": "python",
   "pygments_lexer": "ipython3",
   "version": "3.8.5"
  }
 },
 "nbformat": 4,
 "nbformat_minor": 5
}
